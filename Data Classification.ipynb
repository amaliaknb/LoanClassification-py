{
 "cells": [
  {
   "cell_type": "markdown",
   "id": "0531da5e",
   "metadata": {},
   "source": [
    "## CLasisfication with Machine Learning"
   ]
  },
  {
   "cell_type": "markdown",
   "id": "a182d1c3",
   "metadata": {},
   "source": [
    "The goal here is to compare some of the most known machine learning method to find out which give the best result in terms of acuracy."
   ]
  },
  {
   "cell_type": "code",
   "execution_count": 19,
   "id": "f72e850f",
   "metadata": {},
   "outputs": [
    {
     "data": {
      "text/html": [
       "<div>\n",
       "<style scoped>\n",
       "    .dataframe tbody tr th:only-of-type {\n",
       "        vertical-align: middle;\n",
       "    }\n",
       "\n",
       "    .dataframe tbody tr th {\n",
       "        vertical-align: top;\n",
       "    }\n",
       "\n",
       "    .dataframe thead th {\n",
       "        text-align: right;\n",
       "    }\n",
       "</style>\n",
       "<table border=\"1\" class=\"dataframe\">\n",
       "  <thead>\n",
       "    <tr style=\"text-align: right;\">\n",
       "      <th></th>\n",
       "      <th>No Recession</th>\n",
       "      <th>Recession</th>\n",
       "      <th>Loan_Status</th>\n",
       "      <th>NoRealEstate</th>\n",
       "      <th>RealEstate</th>\n",
       "      <th>Long Term</th>\n",
       "      <th>Short Term</th>\n",
       "      <th>High Risk</th>\n",
       "      <th>Low Risk</th>\n",
       "      <th>New Business</th>\n",
       "      <th>Old Business</th>\n",
       "      <th>Large</th>\n",
       "      <th>Medium</th>\n",
       "      <th>Micro</th>\n",
       "      <th>Small</th>\n",
       "    </tr>\n",
       "  </thead>\n",
       "  <tbody>\n",
       "    <tr>\n",
       "      <th>0</th>\n",
       "      <td>1</td>\n",
       "      <td>0</td>\n",
       "      <td>1</td>\n",
       "      <td>1</td>\n",
       "      <td>0</td>\n",
       "      <td>1</td>\n",
       "      <td>0</td>\n",
       "      <td>1</td>\n",
       "      <td>0</td>\n",
       "      <td>0</td>\n",
       "      <td>1</td>\n",
       "      <td>0</td>\n",
       "      <td>0</td>\n",
       "      <td>1</td>\n",
       "      <td>0</td>\n",
       "    </tr>\n",
       "    <tr>\n",
       "      <th>1</th>\n",
       "      <td>1</td>\n",
       "      <td>0</td>\n",
       "      <td>1</td>\n",
       "      <td>1</td>\n",
       "      <td>0</td>\n",
       "      <td>0</td>\n",
       "      <td>1</td>\n",
       "      <td>1</td>\n",
       "      <td>0</td>\n",
       "      <td>0</td>\n",
       "      <td>1</td>\n",
       "      <td>0</td>\n",
       "      <td>0</td>\n",
       "      <td>1</td>\n",
       "      <td>0</td>\n",
       "    </tr>\n",
       "    <tr>\n",
       "      <th>2</th>\n",
       "      <td>1</td>\n",
       "      <td>0</td>\n",
       "      <td>1</td>\n",
       "      <td>1</td>\n",
       "      <td>0</td>\n",
       "      <td>1</td>\n",
       "      <td>0</td>\n",
       "      <td>0</td>\n",
       "      <td>1</td>\n",
       "      <td>1</td>\n",
       "      <td>0</td>\n",
       "      <td>0</td>\n",
       "      <td>0</td>\n",
       "      <td>1</td>\n",
       "      <td>0</td>\n",
       "    </tr>\n",
       "    <tr>\n",
       "      <th>3</th>\n",
       "      <td>1</td>\n",
       "      <td>0</td>\n",
       "      <td>1</td>\n",
       "      <td>1</td>\n",
       "      <td>0</td>\n",
       "      <td>0</td>\n",
       "      <td>1</td>\n",
       "      <td>1</td>\n",
       "      <td>0</td>\n",
       "      <td>0</td>\n",
       "      <td>1</td>\n",
       "      <td>0</td>\n",
       "      <td>0</td>\n",
       "      <td>1</td>\n",
       "      <td>0</td>\n",
       "    </tr>\n",
       "    <tr>\n",
       "      <th>4</th>\n",
       "      <td>1</td>\n",
       "      <td>0</td>\n",
       "      <td>1</td>\n",
       "      <td>0</td>\n",
       "      <td>1</td>\n",
       "      <td>1</td>\n",
       "      <td>0</td>\n",
       "      <td>0</td>\n",
       "      <td>1</td>\n",
       "      <td>1</td>\n",
       "      <td>0</td>\n",
       "      <td>0</td>\n",
       "      <td>0</td>\n",
       "      <td>0</td>\n",
       "      <td>1</td>\n",
       "    </tr>\n",
       "  </tbody>\n",
       "</table>\n",
       "</div>"
      ],
      "text/plain": [
       "   No Recession  Recession  Loan_Status  NoRealEstate  RealEstate  Long Term  \\\n",
       "0             1          0            1             1           0          1   \n",
       "1             1          0            1             1           0          0   \n",
       "2             1          0            1             1           0          1   \n",
       "3             1          0            1             1           0          0   \n",
       "4             1          0            1             0           1          1   \n",
       "\n",
       "   Short Term  High Risk  Low Risk  New Business  Old Business  Large  Medium  \\\n",
       "0           0          1         0             0             1      0       0   \n",
       "1           1          1         0             0             1      0       0   \n",
       "2           0          0         1             1             0      0       0   \n",
       "3           1          1         0             0             1      0       0   \n",
       "4           0          0         1             1             0      0       0   \n",
       "\n",
       "   Micro  Small  \n",
       "0      1      0  \n",
       "1      1      0  \n",
       "2      1      0  \n",
       "3      1      0  \n",
       "4      0      1  "
      ]
     },
     "execution_count": 19,
     "metadata": {},
     "output_type": "execute_result"
    }
   ],
   "source": [
    "import pandas as pd\n",
    "df = pd.read_pickle(\"clean_data.pkl\")\n",
    "df.head()"
   ]
  },
  {
   "cell_type": "markdown",
   "id": "b7d6b085",
   "metadata": {},
   "source": [
    "Cause the goal is to basically predict the loan status (**1=Paid in Full and 0=Charged off**) then we need to separate the to variable X and Y. Variable Y would be Loan_Status and Variable X would be the rest of the data sets."
   ]
  },
  {
   "cell_type": "code",
   "execution_count": 10,
   "id": "a3bb9c26",
   "metadata": {},
   "outputs": [],
   "source": [
    "y = df['Loan_Status']\n",
    "X = df.drop(['Loan_Status'], axis=1)"
   ]
  },
  {
   "cell_type": "code",
   "execution_count": 20,
   "id": "76bb438e",
   "metadata": {},
   "outputs": [
    {
     "name": "stdout",
     "output_type": "stream",
     "text": [
      "Counter({1: 481882, 0: 104511})\n",
      "Counter({1: 237345, 0: 51476})\n"
     ]
    }
   ],
   "source": [
    "from collections import Counter\n",
    "from sklearn.model_selection import train_test_split\n",
    "X_train, X_test, y_train, y_test = train_test_split(X, y, test_size=0.33, random_state=1, stratify=y)\n",
    "print(Counter(y_train))\n",
    "print(Counter(y_test))"
   ]
  },
  {
   "cell_type": "markdown",
   "id": "68a55872",
   "metadata": {},
   "source": [
    "A little search away of top machine learning algorithm for classification, I found:\n",
    "\n",
    "**1. Logistic Regression**\n",
    "\n",
    "**2. KNN**\n",
    "\n",
    "**3. SVM**\n",
    "\n",
    "**4. Random Forest**\n",
    "\n",
    "**5. Naive Bayes**\n",
    "\n",
    "And I want to addd one more algorithm that is **Stochastic Gradient Descent (SGD)**.\n",
    "\n",
    "Reference: https://towardsdatascience.com/top-machine-learning-algorithms-for-classification-2197870ff501\n"
   ]
  },
  {
   "cell_type": "code",
   "execution_count": 26,
   "id": "4f10e9b7",
   "metadata": {},
   "outputs": [],
   "source": [
    "#Classification Algorithm\n",
    "\n",
    "from sklearn.linear_model import LogisticRegression\n",
    "from sklearn.neighbors import KNeighborsClassifier\n",
    "from sklearn.svm import SVC\n",
    "from sklearn.ensemble import RandomForestClassifier\n",
    "from sklearn.naive_bayes import GaussianNB\n",
    "from sklearn.linear_model import SGDClassifier\n",
    "\n",
    "#Model Evaluation Metrics\n",
    "from sklearn import metrics\n",
    "from sklearn.metrics import accuracy_score\n",
    "from sklearn.metrics import confusion_matrix\n",
    "from sklearn.metrics import mean_absolute_error\n",
    "from sklearn.metrics import f1_score\n",
    "from sklearn.metrics import classification_report"
   ]
  },
  {
   "cell_type": "code",
   "execution_count": 25,
   "id": "b1a2c375",
   "metadata": {},
   "outputs": [],
   "source": [
    "ml_algorithms = []\n",
    "ml_algorithms.append(LogisticRegression())\n",
    "ml_algorithms.append(KNeighborsClassifier(n_neighbors = int(X.shape[1]/2)))\n",
    "ml_algorithms.append(SVC(gamma='auto', kernel ='linear'))\n",
    "ml_algorithms.append(RandomForestClassifier())\n",
    "ml_algorithms.append(GaussianNB())\n",
    "ml_algorithms.append(SGDClassifier(loss='modified_huber', shuffle=True))"
   ]
  },
  {
   "cell_type": "code",
   "execution_count": 29,
   "id": "59c0e6b2",
   "metadata": {},
   "outputs": [],
   "source": [
    "ml_list=['Logistic Regression', 'KNN', 'SVM', 'Random Forest', 'Naive Bayes', 'SGD']\n",
    "acc_list = []\n",
    "auc_list = []\n",
    "cm_list = []\n",
    "mea_list = []\n",
    "f1_list = []\n",
    "\n",
    "for ml in ml_algorithms:\n",
    "    ml.fit(X_train, y_train)\n",
    "    y_pred = ml.predict(X_test)\n",
    "    acc_list.append(accuracy_score(y_test, y_pred))\n",
    "    fpr, tpr, _threshold = metrics.roc_curve(y_test, y_pred)\n",
    "    auc_list.append(round(metrics.auc(fpr, tpr),2))\n",
    "    cm_list.append(confusion_matrix(y_test, y_pred))\n",
    "    mea_list.append(mean_absolute_error(y_test, y_pred))\n",
    "    f1_list.append(f1_score(y_test, y_pred))"
   ]
  },
  {
   "cell_type": "code",
   "execution_count": 30,
   "id": "37121563",
   "metadata": {},
   "outputs": [
    {
     "data": {
      "text/html": [
       "<div>\n",
       "<style scoped>\n",
       "    .dataframe tbody tr th:only-of-type {\n",
       "        vertical-align: middle;\n",
       "    }\n",
       "\n",
       "    .dataframe tbody tr th {\n",
       "        vertical-align: top;\n",
       "    }\n",
       "\n",
       "    .dataframe thead th {\n",
       "        text-align: right;\n",
       "    }\n",
       "</style>\n",
       "<table border=\"1\" class=\"dataframe\">\n",
       "  <thead>\n",
       "    <tr style=\"text-align: right;\">\n",
       "      <th></th>\n",
       "      <th>Model</th>\n",
       "      <th>confusion_matrix</th>\n",
       "      <th>f1_score</th>\n",
       "      <th>accuracy</th>\n",
       "      <th>AUC</th>\n",
       "      <th>mean_absolute_error</th>\n",
       "    </tr>\n",
       "  </thead>\n",
       "  <tbody>\n",
       "    <tr>\n",
       "      <th>0</th>\n",
       "      <td>Logistic Regression</td>\n",
       "      <td>[[2826, 48650], [2807, 234538]]</td>\n",
       "      <td>0.901146</td>\n",
       "      <td>0.821838</td>\n",
       "      <td>0.52</td>\n",
       "      <td>0.178162</td>\n",
       "    </tr>\n",
       "    <tr>\n",
       "      <th>1</th>\n",
       "      <td>KNN</td>\n",
       "      <td>[[2504, 48972], [2237, 235108]]</td>\n",
       "      <td>0.901790</td>\n",
       "      <td>0.822696</td>\n",
       "      <td>0.52</td>\n",
       "      <td>0.177304</td>\n",
       "    </tr>\n",
       "    <tr>\n",
       "      <th>2</th>\n",
       "      <td>SVM</td>\n",
       "      <td>[[0, 51476], [0, 237345]]</td>\n",
       "      <td>0.902168</td>\n",
       "      <td>0.821772</td>\n",
       "      <td>0.50</td>\n",
       "      <td>0.178228</td>\n",
       "    </tr>\n",
       "    <tr>\n",
       "      <th>3</th>\n",
       "      <td>Random Forest</td>\n",
       "      <td>[[2504, 48972], [2235, 235110]]</td>\n",
       "      <td>0.901794</td>\n",
       "      <td>0.822703</td>\n",
       "      <td>0.52</td>\n",
       "      <td>0.177297</td>\n",
       "    </tr>\n",
       "    <tr>\n",
       "      <th>4</th>\n",
       "      <td>Naive Bayes</td>\n",
       "      <td>[[42328, 9148], [129205, 108140]]</td>\n",
       "      <td>0.609870</td>\n",
       "      <td>0.520973</td>\n",
       "      <td>0.64</td>\n",
       "      <td>0.479027</td>\n",
       "    </tr>\n",
       "    <tr>\n",
       "      <th>5</th>\n",
       "      <td>SGD</td>\n",
       "      <td>[[2723, 48753], [2575, 234770]]</td>\n",
       "      <td>0.901457</td>\n",
       "      <td>0.822284</td>\n",
       "      <td>0.52</td>\n",
       "      <td>0.177716</td>\n",
       "    </tr>\n",
       "  </tbody>\n",
       "</table>\n",
       "</div>"
      ],
      "text/plain": [
       "                 Model                   confusion_matrix  f1_score  accuracy  \\\n",
       "0  Logistic Regression    [[2826, 48650], [2807, 234538]]  0.901146  0.821838   \n",
       "1                  KNN    [[2504, 48972], [2237, 235108]]  0.901790  0.822696   \n",
       "2                  SVM          [[0, 51476], [0, 237345]]  0.902168  0.821772   \n",
       "3        Random Forest    [[2504, 48972], [2235, 235110]]  0.901794  0.822703   \n",
       "4          Naive Bayes  [[42328, 9148], [129205, 108140]]  0.609870  0.520973   \n",
       "5                  SGD    [[2723, 48753], [2575, 234770]]  0.901457  0.822284   \n",
       "\n",
       "    AUC  mean_absolute_error  \n",
       "0  0.52             0.178162  \n",
       "1  0.52             0.177304  \n",
       "2  0.50             0.178228  \n",
       "3  0.52             0.177297  \n",
       "4  0.64             0.479027  \n",
       "5  0.52             0.177716  "
      ]
     },
     "execution_count": 30,
     "metadata": {},
     "output_type": "execute_result"
    }
   ],
   "source": [
    "result = pd.DataFrame({'Model':ml_list,'confusion_matrix':cm_list, 'f1_score':f1_list, 'accuracy':acc_list, 'AUC':auc_list,\n",
    "                      'mean_absolute_error':mea_list})\n",
    "result"
   ]
  },
  {
   "cell_type": "code",
   "execution_count": 32,
   "id": "1f579010",
   "metadata": {},
   "outputs": [],
   "source": [
    "result.to_pickle(\"result.pkl\")"
   ]
  },
  {
   "cell_type": "code",
   "execution_count": 43,
   "id": "1505d4c7",
   "metadata": {},
   "outputs": [
    {
     "data": {
      "image/png": "[encoded data removed]",
      "text/plain": [
       "<Figure size 1440x864 with 12 Axes>"
      ]
     },
     "metadata": {
      "needs_background": "light"
     },
     "output_type": "display_data"
    }
   ],
   "source": [
    "#Let's See the Result of Confusion Matrix\n",
    "import matplotlib.pyplot as plt\n",
    "import seaborn as sns\n",
    "\n",
    "fig = plt.figure(figsize=(20,12))\n",
    "for i in range(len(cm_list)):\n",
    "    cm = cm_list[i]\n",
    "    ml = ml_list[i]\n",
    "    sub = fig.add_subplot(2, 3, i+1).set_title(ml)\n",
    "    cm_plot = sns.heatmap(cm, annot=True, cmap='Greens')\n",
    "    cm_plot.set_xlabel(\"Predicted Values\")\n",
    "    cm_plot.set_ylabel(\"Actual Values\")\n"
   ]
  },
  {
   "cell_type": "code",
   "execution_count": null,
   "id": "10c3cc10",
   "metadata": {},
   "outputs": [],
   "source": []
  }
 ],
 "metadata": {
  "kernelspec": {
   "display_name": "Python 3",
   "language": "python",
   "name": "python3"
  },
  "language_info": {
   "codemirror_mode": {
    "name": "ipython",
    "version": 3
   },
   "file_extension": ".py",
   "mimetype": "text/x-python",
   "name": "python",
   "nbconvert_exporter": "python",
   "pygments_lexer": "ipython3",
   "version": "3.8.8"
  }
 },
 "nbformat": 4,
 "nbformat_minor": 5
}
